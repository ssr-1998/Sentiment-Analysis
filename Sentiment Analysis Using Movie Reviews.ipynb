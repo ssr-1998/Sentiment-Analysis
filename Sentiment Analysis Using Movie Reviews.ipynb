{
 "cells": [
  {
   "cell_type": "markdown",
   "metadata": {},
   "source": [
    "**Data Source :-** https://www.kaggle.com/lakshmi25npathi/imdb-dataset-of-50k-movie-reviews<br>\n",
    "**This whole notebook takes 35 minutes to run.**"
   ]
  },
  {
   "cell_type": "code",
   "execution_count": 59,
   "metadata": {},
   "outputs": [],
   "source": [
    "import numpy as np\n",
    "import pandas as pd\n",
    "import matplotlib.pyplot as plt\n",
    "import seaborn as sns\n",
    "import re\n",
    "from datetime import datetime\n",
    "from matplotlib.pyplot import rcParams\n",
    "from tqdm import tqdm\n",
    "from nltk.corpus import stopwords\n",
    "from scipy.stats import uniform\n",
    "from bs4 import BeautifulSoup\n",
    "from nltk.stem import WordNetLemmatizer\n",
    "from datetime import datetime\n",
    "from sklearn.feature_extraction.text import CountVectorizer, TfidfVectorizer\n",
    "from sklearn.model_selection import train_test_split\n",
    "from sklearn.linear_model import SGDClassifier, LogisticRegression\n",
    "from sklearn.ensemble import RandomForestClassifier\n",
    "from sklearn.naive_bayes import MultinomialNB\n",
    "from sklearn.model_selection import RandomizedSearchCV, GridSearchCV\n",
    "from sklearn.metrics import accuracy_score, roc_auc_score, roc_curve, recall_score, confusion_matrix, precision_recall_curve, precision_score, classification_report\n",
    "from xgboost import XGBClassifier\n",
    "from sklearn.metrics.classification import log_loss\n",
    "import prettytable\n",
    "from prettytable import PrettyTable"
   ]
  },
  {
   "cell_type": "code",
   "execution_count": 2,
   "metadata": {},
   "outputs": [],
   "source": [
    "def timer(start_time=None):\n",
    "    if not start_time:\n",
    "        start_time = datetime.now()\n",
    "        return start_time\n",
    "    elif start_time:\n",
    "        thour, temp_sec = divmod((datetime.now() - start_time).total_seconds(), 3600)\n",
    "        tmin, tsec = divmod(temp_sec, 60)\n",
    "        print('\\n Time taken: %i hours %i minutes and %s seconds.' % (thour, tmin, round(tsec, 2)))"
   ]
  },
  {
   "cell_type": "code",
   "execution_count": 3,
   "metadata": {},
   "outputs": [],
   "source": [
    "%matplotlib inline\n",
    "rcParams[\"figure.figsize\"] = 10,10"
   ]
  },
  {
   "cell_type": "code",
   "execution_count": 4,
   "metadata": {},
   "outputs": [
    {
     "name": "stdout",
     "output_type": "stream",
     "text": [
      "There are 50000 rows & 2 columns in our data-set.\n"
     ]
    },
    {
     "data": {
      "text/html": [
       "<div>\n",
       "<style scoped>\n",
       "    .dataframe tbody tr th:only-of-type {\n",
       "        vertical-align: middle;\n",
       "    }\n",
       "\n",
       "    .dataframe tbody tr th {\n",
       "        vertical-align: top;\n",
       "    }\n",
       "\n",
       "    .dataframe thead th {\n",
       "        text-align: right;\n",
       "    }\n",
       "</style>\n",
       "<table border=\"1\" class=\"dataframe\">\n",
       "  <thead>\n",
       "    <tr style=\"text-align: right;\">\n",
       "      <th></th>\n",
       "      <th>review</th>\n",
       "      <th>sentiment</th>\n",
       "    </tr>\n",
       "  </thead>\n",
       "  <tbody>\n",
       "    <tr>\n",
       "      <th>0</th>\n",
       "      <td>One of the other reviewers has mentioned that ...</td>\n",
       "      <td>positive</td>\n",
       "    </tr>\n",
       "    <tr>\n",
       "      <th>1</th>\n",
       "      <td>A wonderful little production. &lt;br /&gt;&lt;br /&gt;The...</td>\n",
       "      <td>positive</td>\n",
       "    </tr>\n",
       "    <tr>\n",
       "      <th>2</th>\n",
       "      <td>I thought this was a wonderful way to spend ti...</td>\n",
       "      <td>positive</td>\n",
       "    </tr>\n",
       "    <tr>\n",
       "      <th>3</th>\n",
       "      <td>Basically there's a family where a little boy ...</td>\n",
       "      <td>negative</td>\n",
       "    </tr>\n",
       "    <tr>\n",
       "      <th>4</th>\n",
       "      <td>Petter Mattei's \"Love in the Time of Money\" is...</td>\n",
       "      <td>positive</td>\n",
       "    </tr>\n",
       "    <tr>\n",
       "      <th>5</th>\n",
       "      <td>Probably my all-time favorite movie, a story o...</td>\n",
       "      <td>positive</td>\n",
       "    </tr>\n",
       "    <tr>\n",
       "      <th>6</th>\n",
       "      <td>I sure would like to see a resurrection of a u...</td>\n",
       "      <td>positive</td>\n",
       "    </tr>\n",
       "    <tr>\n",
       "      <th>7</th>\n",
       "      <td>This show was an amazing, fresh &amp; innovative i...</td>\n",
       "      <td>negative</td>\n",
       "    </tr>\n",
       "    <tr>\n",
       "      <th>8</th>\n",
       "      <td>Encouraged by the positive comments about this...</td>\n",
       "      <td>negative</td>\n",
       "    </tr>\n",
       "    <tr>\n",
       "      <th>9</th>\n",
       "      <td>If you like original gut wrenching laughter yo...</td>\n",
       "      <td>positive</td>\n",
       "    </tr>\n",
       "  </tbody>\n",
       "</table>\n",
       "</div>"
      ],
      "text/plain": [
       "                                              review sentiment\n",
       "0  One of the other reviewers has mentioned that ...  positive\n",
       "1  A wonderful little production. <br /><br />The...  positive\n",
       "2  I thought this was a wonderful way to spend ti...  positive\n",
       "3  Basically there's a family where a little boy ...  negative\n",
       "4  Petter Mattei's \"Love in the Time of Money\" is...  positive\n",
       "5  Probably my all-time favorite movie, a story o...  positive\n",
       "6  I sure would like to see a resurrection of a u...  positive\n",
       "7  This show was an amazing, fresh & innovative i...  negative\n",
       "8  Encouraged by the positive comments about this...  negative\n",
       "9  If you like original gut wrenching laughter yo...  positive"
      ]
     },
     "execution_count": 4,
     "metadata": {},
     "output_type": "execute_result"
    }
   ],
   "source": [
    "data = pd.read_csv(\"IMDB Dataset.csv\")\n",
    "print(\"There are {} rows & {} columns in our data-set.\".format(data.shape[0], data.shape[1]))\n",
    "data.head(10)"
   ]
  },
  {
   "cell_type": "code",
   "execution_count": 5,
   "metadata": {},
   "outputs": [
    {
     "name": "stdout",
     "output_type": "stream",
     "text": [
      "<class 'pandas.core.frame.DataFrame'>\n",
      "RangeIndex: 50000 entries, 0 to 49999\n",
      "Data columns (total 2 columns):\n",
      " #   Column     Non-Null Count  Dtype \n",
      "---  ------     --------------  ----- \n",
      " 0   review     50000 non-null  object\n",
      " 1   sentiment  50000 non-null  object\n",
      "dtypes: object(2)\n",
      "memory usage: 781.4+ KB\n"
     ]
    }
   ],
   "source": [
    "data.info()"
   ]
  },
  {
   "cell_type": "code",
   "execution_count": 6,
   "metadata": {},
   "outputs": [
    {
     "data": {
      "text/html": [
       "<div>\n",
       "<style scoped>\n",
       "    .dataframe tbody tr th:only-of-type {\n",
       "        vertical-align: middle;\n",
       "    }\n",
       "\n",
       "    .dataframe tbody tr th {\n",
       "        vertical-align: top;\n",
       "    }\n",
       "\n",
       "    .dataframe thead th {\n",
       "        text-align: right;\n",
       "    }\n",
       "</style>\n",
       "<table border=\"1\" class=\"dataframe\">\n",
       "  <thead>\n",
       "    <tr style=\"text-align: right;\">\n",
       "      <th></th>\n",
       "      <th>review</th>\n",
       "      <th>sentiment</th>\n",
       "    </tr>\n",
       "  </thead>\n",
       "  <tbody>\n",
       "  </tbody>\n",
       "</table>\n",
       "</div>"
      ],
      "text/plain": [
       "Empty DataFrame\n",
       "Columns: [review, sentiment]\n",
       "Index: []"
      ]
     },
     "execution_count": 6,
     "metadata": {},
     "output_type": "execute_result"
    }
   ],
   "source": [
    "data[data.isnull().any(axis=1)]"
   ]
  },
  {
   "cell_type": "markdown",
   "metadata": {},
   "source": [
    "So, we can see that there are no missing values in our data."
   ]
  },
  {
   "cell_type": "code",
   "execution_count": 7,
   "metadata": {},
   "outputs": [
    {
     "data": {
      "image/png": "[encoded data removed]",
      "text/plain": [
       "<Figure size 720x720 with 1 Axes>"
      ]
     },
     "metadata": {
      "needs_background": "light"
     },
     "output_type": "display_data"
    }
   ],
   "source": [
    "sns.barplot(x=data.sentiment.value_counts().index, y=data.sentiment.value_counts())\n",
    "plt.show()"
   ]
  },
  {
   "cell_type": "markdown",
   "metadata": {},
   "source": [
    "So, as we can see that our data is properly balanced. "
   ]
  },
  {
   "cell_type": "markdown",
   "metadata": {},
   "source": [
    "# Data Cleaning & Pre-Processing :-"
   ]
  },
  {
   "cell_type": "code",
   "execution_count": 8,
   "metadata": {},
   "outputs": [
    {
     "name": "stdout",
     "output_type": "stream",
     "text": [
      "Phil the Alien is one of those quirky films where the humour is based around the oddness of everything rather than actual punchlines.<br /><br />At first it was very odd and pretty funny but as the movie progressed I didn't find the jokes or oddness funny anymore.<br /><br />Its a low budget film (thats never a problem in itself), there were some pretty interesting characters, but eventually I just lost interest.<br /><br />I imagine this film would appeal to a stoner who is currently partaking.<br /><br />For something similar but better try \"Brother from another planet\"\n",
      "====================================================================================================\n",
      "This movie is awful, I can't even be bothered to write a review on this garbage! All i will say it is one of the most boring films I've ever seen.<br /><br />And the acting is very bad. The boy who plays the main character really annoys me, he's got the same expression on his face through out the movie. I just want to slap him! Basically 80% of the movie is slow motion shots of skateboarders, weird music, and utter sh*t..<br /><br />Apparently I've got to write at least 10 lines of text to submit this comment, so I'll use up a few more lines by saying the lead character has got one of those faces you just want to slap!<br /><br />Meh i give up..THIS MOVIE SUCKS !!!!\n",
      "====================================================================================================\n",
      "\" While sporadically engrossing (including a few effectively tender moments) and humorous, the sledgehammer-obvious satire 'Homecoming' hinges on comes off as forced and ultimately unfulfilling. With material like this, timing is everything (Michael Moore knew to release \"Fahrenheit 9/11\" before the 2004 elections), and the real tragedy of Dante's film is that it didn't come out 2 years ago, when its message would have carried an energy that would have energized the dissidents further. In 2006, mockery of the well-settled Bush Administration hardly seems as controversially compelling (or imperiled) as it did then.\"<br /><br />frankly anyone that could be convinced of anything by a ham fisted zombie flick has questionable intelligence. <br /><br />and if you didn't notice, michael moore didn't exactly help to defeat bush.<br /><br />there was nothing engrossing about this film. i just felt disgust at how blatant and frankly stupid the film was, it was painful to watch. if you are going to do something like this you need a bit of wit. sadly this has none. a poorly done satire actually has the opposite of its intended effect. as they say, with friends like these who needs enemies.\n",
      "====================================================================================================\n",
      "I haven't laughed this hard at a movie in a long time. I got to go to an advance screening, and was thrilled because I had been dying to see it. I had tears in my eyes from laughter throughout a lot of the movie. The audience all shared my laughter, and was clapping and yelling throughout most of the movie.<br /><br />Kudos to Steve Carrell(who I had already been a fan of). He proves in this movie his tremendous talent for comedy. He has a style that I haven't seen before. And Catherine Keener is excellent as always. Thank God there wasn't a cameo from Will Ferrell(love him, but saw him too much this summer).<br /><br />There were parts of comedic genius in this movie. Partly thanks to Carrell, and partly thanks to the writing(also Carrell). The waxing scene and the speed dater with the \"obvious problem\" were absolutely hysterical.<br /><br />I will definitely go see '40 Year Old Virgin' when it's released. My advice: go to see it for huge laughs and an incredibly enjoyable movie on top of it.\n"
     ]
    }
   ],
   "source": [
    "print(data.review[10])\n",
    "print(\"=\"*100)\n",
    "print(data.review[1000])\n",
    "print(\"=\"*100)\n",
    "print(data.review[10000])\n",
    "print(\"=\"*100)\n",
    "print(data.review[49000])"
   ]
  },
  {
   "cell_type": "markdown",
   "metadata": {},
   "source": [
    "So, we can see that these reviews are in a need to be cleaned and then to be pre-processed."
   ]
  },
  {
   "cell_type": "code",
   "execution_count": 9,
   "metadata": {},
   "outputs": [],
   "source": [
    "data.review = data.review.apply(lambda a: a.lower())"
   ]
  },
  {
   "cell_type": "code",
   "execution_count": 10,
   "metadata": {},
   "outputs": [],
   "source": [
    "stopwords = ['i', 'me', 'my', 'myself', 'we', 'our', 'ours', 'ourselves', 'you', \"you're\", \"you've\", \"you'll\", \"you'd\", 'your', 'yours', 'yourself', 'yourselves', 'he', 'him', 'his', 'himself', 'she', \"she's\", 'her', 'hers', 'herself', 'it', \"it's\", 'its', 'itself', 'they', 'them', 'their', 'theirs', 'themselves', 'what', 'which', 'who', 'whom', 'this', 'that', \"that'll\", 'these', 'those', 'am', 'is', 'are', 'was', 'were', 'be', 'been', 'being', 'have', 'has', 'had', 'having', 'do', 'does', 'did', 'doing', 'a', 'an', 'the', 'and', 'but', 'if', 'or', 'because', 'as', 'until', 'while', 'of', 'at', 'by', 'for', 'with', 'about', 'against', 'between', 'into', 'through', 'during', 'before', 'after', 'above', 'below', 'to', 'from', 'up', 'down', 'in', 'out', 'on', 'off', 'over', 'under', 'again', 'further', 'then', 'once', 'here', 'there', 'when', 'where', 'why', 'how', 'all', 'any', 'both', 'each', 'few', 'more', 'most', 'other', 'some', 'such', 'no', 'nor', 'only', 'own', 'same', 'so', 'than', 'too', 'very', 's', 't', 'can', 'will', 'just', 'don', 'should', \"should've\", 'now', 'd', 'll', 'm', 'o', 're', 've', 'y', 'ain', 'aren', 'couldn', 'didn', 'doesn', 'hadn', 'hasn', 'haven', 'isn', 'ma', 'mightn', 'mustn', 'needn', 'shan', 'shouldn', 'wasn', 'weren', 'won', 'wouldn']\n",
    "lemmatizer = WordNetLemmatizer()"
   ]
  },
  {
   "cell_type": "markdown",
   "metadata": {},
   "source": [
    "We will use stopwords to reduce the number of features which will be created after BagOfWords / TF-IDF."
   ]
  },
  {
   "cell_type": "code",
   "execution_count": 11,
   "metadata": {},
   "outputs": [
    {
     "name": "stderr",
     "output_type": "stream",
     "text": [
      "100%|██████████| 50000/50000 [02:04<00:00, 400.04it/s]\n"
     ]
    }
   ],
   "source": [
    "# start_time = timer(None) # timing starts from this point for \"start_time\" variable\n",
    "preprocessed_review = []\n",
    "for sentance in tqdm(data.review.values):\n",
    "    sentance = BeautifulSoup(sentance, 'lxml').get_text()\n",
    "    sentance = re.sub(\"\\S*\\d\\S*\", \"\", sentance).strip()\n",
    "    sentance = re.sub('[^A-Za-z]+', \" \", sentance)    \n",
    "    sentance = ' '.join(lemmatizer.lemmatize(text) for text in sentance.split() if text not in stopwords)\n",
    "    preprocessed_review.append(sentance.strip())\n",
    "# timer(start_time) # timing ends here for \"start_time\" variable"
   ]
  },
  {
   "cell_type": "code",
   "execution_count": 12,
   "metadata": {},
   "outputs": [
    {
     "name": "stdout",
     "output_type": "stream",
     "text": [
      "phil alien one quirky film humour based around oddness everything rather actual punchlines first odd pretty funny movie progressed find joke oddness funny anymore low budget film thats never problem pretty interesting character eventually lost interest imagine film would appeal stoner currently partaking something similar better try brother another planet\n",
      "====================================================================================================\n",
      "movie awful even bothered write review garbage say one boring film ever seen acting bad boy play main character really annoys got expression face movie want slap basically movie slow motion shot skateboarder weird music utter sh apparently got write least line text submit comment use line saying lead character got one face want slap meh give movie suck\n",
      "====================================================================================================\n",
      "sporadically engrossing including effectively tender moment humorous sledgehammer obvious satire homecoming hinge come forced ultimately unfulfilling material like timing everything michael moore knew release fahrenheit election real tragedy dante film come year ago message would carried energy would energized dissident mockery well settled bush administration hardly seems controversially compelling imperiled frankly anyone could convinced anything ham fisted zombie flick questionable intelligence notice michael moore exactly help defeat bush nothing engrossing film felt disgust blatant frankly stupid film painful watch going something like need bit wit sadly none poorly done satire actually opposite intended effect say friend like need enemy\n",
      "====================================================================================================\n",
      "laughed hard movie long time got go advance screening thrilled dying see tear eye laughter throughout lot movie audience shared laughter clapping yelling throughout movie kudos steve carrell already fan prof movie tremendous talent comedy style seen catherine keener excellent always thank god cameo ferrell love saw much summer part comedic genius movie partly thanks carrell partly thanks writing also carrell waxing scene speed dater obvious problem absolutely hysterical definitely go see year old virgin released advice go see huge laugh incredibly enjoyable movie top\n"
     ]
    }
   ],
   "source": [
    "print(preprocessed_review[10])\n",
    "print(\"=\"*100)\n",
    "print(preprocessed_review[1000])\n",
    "print(\"=\"*100)\n",
    "print(preprocessed_review[10000])\n",
    "print(\"=\"*100)\n",
    "print(preprocessed_review[49000])"
   ]
  },
  {
   "cell_type": "code",
   "execution_count": 13,
   "metadata": {},
   "outputs": [
    {
     "data": {
      "text/plain": [
       "0        one reviewer mentioned watching oz episode hoo...\n",
       "1        wonderful little production filming technique ...\n",
       "2        thought wonderful way spend time hot summer we...\n",
       "3        basically family little boy jake think zombie ...\n",
       "4        petter mattei love time money visually stunnin...\n",
       "                               ...                        \n",
       "49995    thought movie right good job creative original...\n",
       "49996    bad plot bad dialogue bad acting idiotic direc...\n",
       "49997    catholic taught parochial elementary school nu...\n",
       "49998    going disagree previous comment side maltin on...\n",
       "49999    one expects star trek movie high art fan expec...\n",
       "Name: final_reviews, Length: 50000, dtype: object"
      ]
     },
     "execution_count": 13,
     "metadata": {},
     "output_type": "execute_result"
    }
   ],
   "source": [
    "preprocessed_review = pd.Series(preprocessed_review)\n",
    "preprocessed_review.name = \"final_reviews\"\n",
    "preprocessed_review"
   ]
  },
  {
   "cell_type": "markdown",
   "metadata": {},
   "source": [
    "Now, all the reviews are cleaned & are all set to go for pre-processing step.\n"
   ]
  },
  {
   "cell_type": "code",
   "execution_count": 14,
   "metadata": {},
   "outputs": [
    {
     "data": {
      "text/plain": [
       "0        1\n",
       "1        1\n",
       "2        1\n",
       "3        0\n",
       "4        1\n",
       "        ..\n",
       "49995    1\n",
       "49996    0\n",
       "49997    0\n",
       "49998    0\n",
       "49999    0\n",
       "Name: sentiment, Length: 50000, dtype: int64"
      ]
     },
     "execution_count": 14,
     "metadata": {},
     "output_type": "execute_result"
    }
   ],
   "source": [
    "target = data.sentiment\n",
    "target = target.map({\"positive\":1, \"negative\":0})\n",
    "target"
   ]
  },
  {
   "cell_type": "markdown",
   "metadata": {},
   "source": [
    "# Splitting The Reviews :-"
   ]
  },
  {
   "cell_type": "code",
   "execution_count": 15,
   "metadata": {},
   "outputs": [
    {
     "name": "stdout",
     "output_type": "stream",
     "text": [
      "Length of X_train :-  32000\n",
      "Length of y_train :-  32000\n",
      "Length of X_test :-  10000\n",
      "Length of y_test :-  10000\n",
      "Length of X_cv :-  8000\n",
      "Length of y_cv :-  8000\n"
     ]
    }
   ],
   "source": [
    "X = preprocessed_review\n",
    "y = target\n",
    "X_tr, X_test, y_tr, y_test = train_test_split(X, y, test_size=0.2, random_state=42, stratify=y)\n",
    "X_train, X_cv, y_train, y_cv = train_test_split(X_tr, y_tr, test_size=0.2, random_state=42, stratify=y_tr)\n",
    "print(\"Length of X_train :- \", len(X_train))\n",
    "print(\"Length of y_train :- \", len(y_train))\n",
    "print(\"Length of X_test :- \", len(X_test))\n",
    "print(\"Length of y_test :- \", len(y_test))\n",
    "print(\"Length of X_cv :- \", len(X_cv))\n",
    "print(\"Length of y_cv :- \", len(y_cv))"
   ]
  },
  {
   "cell_type": "code",
   "execution_count": 16,
   "metadata": {},
   "outputs": [
    {
     "data": {
      "image/png": "[encoded data removed]",
      "text/plain": [
       "<Figure size 720x720 with 4 Axes>"
      ]
     },
     "metadata": {
      "needs_background": "light"
     },
     "output_type": "display_data"
    }
   ],
   "source": [
    "fig, axes = plt.subplots(2,2, figsize=(10,10))\n",
    "sns.barplot(x=target.value_counts().index, y=target.value_counts(), ax=axes[0,0]).set_title(\"Target Distribution\")\n",
    "sns.barplot(x=y_train.value_counts().index, y=y_train.value_counts(), ax=axes[0,1]).set_title(\"Y_Train Distribution\")\n",
    "sns.barplot(x=y_test.value_counts().index, y=y_test.value_counts(), ax=axes[1,0]).set_title(\"Y_Test Distribution\")\n",
    "sns.barplot(x=y_cv.value_counts().index, y=y_cv.value_counts(), ax=axes[1,1]).set_title(\"Y_CV Distribution\")\n",
    "plt.suptitle(\"Distribution Of Classes\", fontsize=20)\n",
    "plt.tight_layout(pad=5, h_pad=4, w_pad=4)\n",
    "plt.show()"
   ]
  },
  {
   "cell_type": "markdown",
   "metadata": {},
   "source": [
    "# Featurization :-"
   ]
  },
  {
   "cell_type": "code",
   "execution_count": 17,
   "metadata": {},
   "outputs": [
    {
     "name": "stdout",
     "output_type": "stream",
     "text": [
      "Unique Features of X_Train :-  435258\n",
      "Unique Features of y_Test :-  435258\n",
      "Unique Features of X_CV :-  435258\n"
     ]
    }
   ],
   "source": [
    "bow = CountVectorizer(ngram_range=(1,2), min_df=2)\n",
    "X_train_bow = bow.fit_transform(X_train)\n",
    "X_test_bow = bow.transform(X_test)\n",
    "X_cv_bow = bow.transform(X_cv)\n",
    "print(\"Unique Features of X_Train :- \", X_train_bow.get_shape()[1])\n",
    "print(\"Unique Features of y_Test :- \", X_test_bow.get_shape()[1])\n",
    "print(\"Unique Features of X_CV :- \", X_cv_bow.get_shape()[1])"
   ]
  },
  {
   "cell_type": "markdown",
   "metadata": {},
   "source": [
    "# Model Making With Hyperparameter Tunning :-"
   ]
  },
  {
   "cell_type": "markdown",
   "metadata": {},
   "source": [
    "## Naive Bayes {Multi-Nomianl Bayes} :-"
   ]
  },
  {
   "cell_type": "code",
   "execution_count": 18,
   "metadata": {},
   "outputs": [],
   "source": [
    "# alpha = [10**i for i in range(-5,1)]\n",
    "# alpha = {\"alpha\": alpha}\n",
    "# alpha"
   ]
  },
  {
   "cell_type": "code",
   "execution_count": 19,
   "metadata": {},
   "outputs": [],
   "source": [
    "# # MultinomialNB(alpha=1, class_prior=None, fit_prior=True)\n",
    "# mnb = MultinomialNB()\n",
    "# gscv_mnb = GridSearchCV(estimator=mnb, param_grid=alpha, cv=5, scoring=\"roc_auc\")\n",
    "# gscv_mnb.fit(X_train_bow, y_train)\n",
    "# gscv_mnb.best_estimator_"
   ]
  },
  {
   "cell_type": "code",
   "execution_count": 20,
   "metadata": {},
   "outputs": [],
   "source": [
    "mnb = MultinomialNB(alpha=1)\n",
    "mnb.fit(X_train_bow, y_train)\n",
    "pre_test_mnb = mnb.predict(X_test_bow)\n",
    "pre_cv_mnb = mnb.predict(X_cv_bow)"
   ]
  },
  {
   "cell_type": "code",
   "execution_count": 21,
   "metadata": {},
   "outputs": [
    {
     "name": "stdout",
     "output_type": "stream",
     "text": [
      "Log-Loss :-  1.326461584490482\n",
      "Accuracy Score :- 88.31\n",
      "ROC-AUC Score :-  94.25765\n"
     ]
    }
   ],
   "source": [
    "print(\"Log-Loss :- \",log_loss(y_test, mnb.predict_proba(X_test_bow)[:,1]))\n",
    "print(\"Accuracy Score :-\",accuracy_score(y_test, mnb.predict(X_test_bow))*100)\n",
    "print(\"ROC-AUC Score :- \", roc_auc_score(y_test, mnb.predict_proba(X_test_bow)[:,1])*100)"
   ]
  },
  {
   "cell_type": "markdown",
   "metadata": {},
   "source": [
    "## Random Forest :-"
   ]
  },
  {
   "cell_type": "markdown",
   "metadata": {},
   "source": [
    "**Parameters that can be tunned in Random Forest for better performance of model :-**<br>\n",
    "**n_estimators =** number of trees in the foreset<br>\n",
    "**max_features =** max number of features considered for splitting a node<br>\n",
    "**max_depth =** max number of levels in each decision tree<br>\n",
    "**min_samples_split =** min number of data points placed in a node before the node is split<br>\n",
    "**min_samples_leaf =** min number of data points allowed in a leaf node<br>\n",
    "**bootstrap =** method for sampling data points (with or without replacement)<br>"
   ]
  },
  {
   "cell_type": "code",
   "execution_count": 22,
   "metadata": {},
   "outputs": [],
   "source": [
    "# # Number of trees in random forest\n",
    "# n_estimators = [int(x) for x in np.linspace(start = 500, stop = 1000, num = 4)]\n",
    "# # Number of features to consider at every split\n",
    "# max_features = ['auto', 'sqrt']\n",
    "# # Maximum number of levels in tree\n",
    "# max_depth = [None]\n",
    "# # max_depth.append(None)\n",
    "# # Minimum number of samples required to split a node\n",
    "# min_samples_split = [2, 4]\n",
    "# # Minimum number of samples required at each leaf node\n",
    "# min_samples_leaf = [1, 2]\n",
    "# # Method of selecting samples for training each tree\n",
    "# bootstrap = [True, False]\n",
    "# # Create the random grid\n",
    "# random_grid = {'n_estimators': n_estimators,\n",
    "#                'max_features': max_features,\n",
    "#                'max_depth': max_depth,\n",
    "#                'min_samples_split': min_samples_split,\n",
    "#                'min_samples_leaf': min_samples_leaf,\n",
    "#                'bootstrap': bootstrap,\n",
    "#             'criterion':['gini', 'entropy']}\n",
    "# print(random_grid)\n",
    "\n",
    "# X==X==X==X==X==X==X==X==X==X==X==X==X==X==X==X==X==X==X==X==X==X==X==X==X==X==X==X==X==X==X==X==X==X==X==X==X==X==X==X==X\n",
    "\n",
    "# # Old parameters set (But I wasn't able to know how much time it takes as my system has low configurations):-\n",
    "# {'bootstrap': [True, False],\n",
    "#  'max_depth': [10, 20, 30, 40, 50, 60, 70, 80, 90, 100, None],\n",
    "#  'max_features': ['auto', 'sqrt'],\n",
    "#  'min_samples_leaf': [1, 2, 4],\n",
    "#  'min_samples_split': [2, 5, 10],\n",
    "#  'n_estimators': [200, 400, 600, 800, 1000, 1200, 1400, 1600, 1800, 2000]}\n",
    "\n",
    "# X==X==X==X==X==X==X==X==X==X==X==X==X==X==X==X==X==X==X==X==X==X==X==X==X==X==X==X==X==X==X==X==X==X==X==X==X==X==X==X==X\n",
    "\n",
    "# # It took 1 hour & 12 minutes and gave best as :-\n",
    "# {'n_estimators': 500,\n",
    "#  'min_samples_split': 4,\n",
    "#  'min_samples_leaf': 2,\n",
    "#  'max_features': 'auto',\n",
    "#  'max_depth': None,\n",
    "#  'bootstrap': True}\n",
    "# # Parameters gave :-\n",
    "# {'n_estimators': [100, 233, 366, 500],\n",
    "#  'max_features': ['auto', 'sqrt'],\n",
    "#  'max_depth': [None],\n",
    "#  'min_samples_split': [2, 4],\n",
    "#  'min_samples_leaf': [1, 2],\n",
    "#  'bootstrap': [True]}\n",
    "\n",
    "# # Result :-\n",
    "# Log-Loss :-  0.49990969167631555\n",
    "# Accuracy Score :- 87.83999999999999\n",
    "# ROC-AUC Score :-  94.891164\n",
    "\n",
    "# X==X==X==X==X==X==X==X==X==X==X==X==X==X==X==X==X==X==X==X==X==X==X==X==X==X==X==X==X==X==X==X==X==X==X==X==X==X==X==X==X\n",
    "\n",
    "# It took 26 minutes to train direct model with parameters :-\n",
    "# n_estimators : 1000 & criterion : \"entropy\"\n",
    "\n",
    "# # Result :-\n",
    "# Log-Loss :-  0.43460243482048083\n",
    "# Accuracy Score :- 87.92\n",
    "# ROC-AUC Score :-  94.89314200000001\n",
    "\n",
    "# X==X==X==X==X==X==X==X==X==X==X==X==X==X==X==X==X==X==X==X==X==X==X==X==X==X==X==X==X==X==X==X==X==X==X==X==X==X==X==X==X"
   ]
  },
  {
   "cell_type": "code",
   "execution_count": 23,
   "metadata": {},
   "outputs": [],
   "source": [
    "# start_time = timer(None)\n",
    "# rf = RandomForestClassifier()\n",
    "# rscv = RandomizedSearchCV(estimator=rf, param_distributions=random_grid, cv=3, n_jobs=-1, random_state=42)\n",
    "# rscv.fit(X_train_bow, y_train)\n",
    "# timer(start_time)"
   ]
  },
  {
   "cell_type": "code",
   "execution_count": 24,
   "metadata": {},
   "outputs": [],
   "source": [
    "# rscv.best_estimator_"
   ]
  },
  {
   "cell_type": "code",
   "execution_count": 25,
   "metadata": {},
   "outputs": [],
   "source": [
    "# rscv.best_params_"
   ]
  },
  {
   "cell_type": "markdown",
   "metadata": {},
   "source": [
    "**So, we after trying many models, I think the one with {'learning_rate': 0.3, 'gamma': 0.3, 'colsample_bytree': 0.5} parameters are best as they give us better logloss value than others. However, I know that there is not much of difference among all the Random Forest models I tried. Still these parameters gave best output so will choose them.**"
   ]
  },
  {
   "cell_type": "code",
   "execution_count": 26,
   "metadata": {},
   "outputs": [],
   "source": [
    "# 26min for this :-\n",
    "rf = RandomForestClassifier(criterion=\"entropy\", n_estimators=1000,n_jobs=-1, random_state=42)\n",
    "rf.fit(X_train_bow,y_train)\n",
    "pre_test_rf = rf.predict(X_test_bow)\n",
    "pre_cv_rf = rf.predict(X_cv_bow)"
   ]
  },
  {
   "cell_type": "code",
   "execution_count": 27,
   "metadata": {},
   "outputs": [
    {
     "name": "stdout",
     "output_type": "stream",
     "text": [
      "Log-Loss :-  0.4349706491603666\n",
      "Accuracy Score :- 88.07000000000001\n",
      "ROC-AUC Score :-  94.905328\n"
     ]
    }
   ],
   "source": [
    "print(\"Log-Loss :- \",log_loss(y_test, rf.predict_proba(X_test_bow)[:,1]))\n",
    "print(\"Accuracy Score :-\",accuracy_score(y_test, rf.predict(X_test_bow))*100)\n",
    "print(\"ROC-AUC Score :- \", roc_auc_score(y_test, rf.predict_proba(X_test_bow)[:,1])*100)"
   ]
  },
  {
   "cell_type": "markdown",
   "metadata": {},
   "source": [
    "## XGBoost :-\n"
   ]
  },
  {
   "cell_type": "code",
   "execution_count": 28,
   "metadata": {},
   "outputs": [],
   "source": [
    "# params={\n",
    "#  \"learning_rate\"    : [0.3, 0.4, 0.5, 1],\n",
    "#  \"gamma\"            : [0.1, 0.3, 0.5],\n",
    "#  \"colsample_bytree\" : [0.5, 1, 1.5]    \n",
    "# }\n",
    "# print(params)\n",
    "\n",
    "# X==X==X==X==X==X==X==X==X==X==X==X==X==X==X==X==X==X==X==X==X==X==X==X==X==X==X==X==X==X==X==X==X==X==X==X==X==X==X==X==X\n",
    "\n",
    "# # On Basic xgboost (time taken 3 minutes & 34.61 seconds) :-\n",
    "# Log-Loss :-  0.3247937654944864\n",
    "# Accuracy Score :- 86.41\n",
    "# ROC-AUC Score :-  93.92870799999999\n",
    "\n",
    "# X==X==X==X==X==X==X==X==X==X==X==X==X==X==X==X==X==X==X==X==X==X==X==X==X==X==X==X==X==X==X==X==X==X==X==X==X==X==X==X==X\n",
    "\n",
    "# # It took 42 minutes & 28.23 seconds with these parameters:-\n",
    "# {'learning_rate': [0.05, 0.1, 0.15, 0.2, 0.25, 0.3],\n",
    "# 'min_child_weight': [1, 3],\n",
    "# 'gamma': [0.0, 0.1, 0.2],\n",
    "# 'colsample_bytree': [0.3, 0.4, 0.5, 0.7]}\n",
    "\n",
    "# # Best result from {'min_child_weight': 1, 'learning_rate': 0.3, 'gamma': 0.1, 'colsample_bytree': 0.5} :-\n",
    "# Log-Loss :-  0.32574999872817206\n",
    "# Accuracy Score :- 86.15\n",
    "# ROC-AUC Score :-  93.884524\n",
    "\n",
    "# X==X==X==X==X==X==X==X==X==X==X==X==X==X==X==X==X==X==X==X==X==X==X==X==X==X==X==X==X==X==X==X==X==X==X==X==X==X==X==X==X\n",
    "\n",
    "# # It took 20 minutes and 34.37 seconds with these parameters :-\n",
    "# {'learning_rate': [0.3, 0.4, 0.5, 1],\n",
    "#  'gamma': [0.1, 0.3, 0.5],\n",
    "#  'colsample_bytree': [0.5, 1, 1.5]}\n",
    "\n",
    "# # Best result from {'learning_rate': 0.3, 'gamma': 0.3, 'colsample_bytree': 0.5} :-\n",
    "# Log-Loss :-  0.3242997018728311\n",
    "# Accuracy Score :- 86.67\n",
    "# ROC-AUC Score :-  93.99489199999998\n",
    "\n",
    "# X==X==X==X==X==X==X==X==X==X==X==X==X==X==X==X==X==X==X==X==X==X==X==X==X==X==X==X==X==X==X==X==X==X==X==X==X==X==X==X==X"
   ]
  },
  {
   "cell_type": "code",
   "execution_count": 29,
   "metadata": {},
   "outputs": [],
   "source": [
    "# start_time = timer(None)\n",
    "# xgb = XGBClassifier()\n",
    "# rscv = RandomizedSearchCV(estimator=xgb, param_distributions=params, cv=3, n_jobs=-1)\n",
    "# rscv.fit(X_train_bow, y_train)\n",
    "# timer(start_time)"
   ]
  },
  {
   "cell_type": "code",
   "execution_count": 30,
   "metadata": {},
   "outputs": [],
   "source": [
    "# print(rscv.best_estimator_)\n",
    "# print(rscv.best_params_)"
   ]
  },
  {
   "cell_type": "markdown",
   "metadata": {},
   "source": [
    "**So, we after trying many models, I think the one with {'learning_rate': 0.3, 'gamma': 0.3, 'colsample_bytree': 0.5} parameters are best as they give us better logloss value than others. However, I know that there is hardly any difference among all the xgboost models i tried. Still these parameters gave best output so will choose them.**"
   ]
  },
  {
   "cell_type": "code",
   "execution_count": 31,
   "metadata": {},
   "outputs": [],
   "source": [
    "# start_time = timer(None)\n",
    "xgb = XGBClassifier(learning_rate= 0.3, gamma=0.3, colsample_bytree=0.5, random_state=42, n_jobs=-1)\n",
    "xgb.fit(X_train_bow, y_train)\n",
    "# timer(start_time)\n",
    "pre_test_rf =xgb.predict(X_test_bow)\n",
    "pre_cv_rf = xgb.predict(X_cv_bow)"
   ]
  },
  {
   "cell_type": "code",
   "execution_count": 32,
   "metadata": {},
   "outputs": [
    {
     "name": "stdout",
     "output_type": "stream",
     "text": [
      "Log-Loss :-  0.32301326711462314\n",
      "Accuracy Score :- 86.46000000000001\n",
      "ROC-AUC Score :-  94.06101199999999\n"
     ]
    }
   ],
   "source": [
    "print(\"Log-Loss :- \",log_loss(y_test, xgb.predict_proba(X_test_bow)[:,1]))\n",
    "print(\"Accuracy Score :-\",accuracy_score(y_test, xgb.predict(X_test_bow))*100)\n",
    "print(\"ROC-AUC Score :- \", roc_auc_score(y_test, xgb.predict_proba(X_test_bow)[:,1])*100)"
   ]
  },
  {
   "cell_type": "markdown",
   "metadata": {},
   "source": [
    "## Logistic Regression :-"
   ]
  },
  {
   "cell_type": "code",
   "execution_count": 33,
   "metadata": {},
   "outputs": [],
   "source": [
    "# # It took 38 minutes and 49.65 seconds for these parameters :-\n",
    "# # Create regularization penalty space\n",
    "# penalty = ['l1', 'l2']\n",
    "\n",
    "# # Create regularization hyperparameter distribution using uniform distribution\n",
    "# C = uniform(loc=0, scale=4)\n",
    "\n",
    "# # Create hyperparameter options\n",
    "# hyperparameters = dict(C=C, penalty=penalty)\n",
    "\n",
    "# Best Result from {'C': 0.13755408446087358, 'penalty': 'l2'} :- \n",
    "# Log-Loss :-  0.25661248589812646\n",
    "# Accuracy Score :- 90.21000000000001\n",
    "# ROC-AUC Score :-  96.11215999999999\n"
   ]
  },
  {
   "cell_type": "code",
   "execution_count": 34,
   "metadata": {},
   "outputs": [],
   "source": [
    "# start_time = timer(None)\n",
    "# log = LogisticRegression()\n",
    "# rscv = RandomizedSearchCV(estimator=log, param_distributions=hyperparameters, random_state=42, n_iter=100, cv=5, verbose=0, n_jobs=-1)\n",
    "# rscv.fit(X_train_bow, y_train)\n",
    "# timer(start_time)"
   ]
  },
  {
   "cell_type": "code",
   "execution_count": 35,
   "metadata": {},
   "outputs": [],
   "source": [
    "# rscv.best_estimator_"
   ]
  },
  {
   "cell_type": "code",
   "execution_count": 36,
   "metadata": {},
   "outputs": [],
   "source": [
    "# rscv.best_params_"
   ]
  },
  {
   "cell_type": "code",
   "execution_count": 37,
   "metadata": {},
   "outputs": [],
   "source": [
    "log = LogisticRegression(C=0.13755408446087358, random_state=42, n_jobs=-1)\n",
    "log.fit(X_train_bow,y_train)\n",
    "pre_test_log =log.predict(X_test_bow)\n",
    "pre_cv_log = log.predict(X_cv_bow)"
   ]
  },
  {
   "cell_type": "code",
   "execution_count": 38,
   "metadata": {},
   "outputs": [
    {
     "name": "stdout",
     "output_type": "stream",
     "text": [
      "Log-Loss :-  0.25663606401033306\n",
      "Accuracy Score :- 90.2\n",
      "ROC-AUC Score :-  96.112212\n"
     ]
    }
   ],
   "source": [
    "print(\"Log-Loss :- \",log_loss(y_test, log.predict_proba(X_test_bow)[:,1]))\n",
    "print(\"Accuracy Score :-\",accuracy_score(y_test, log.predict(X_test_bow))*100)\n",
    "print(\"ROC-AUC Score :- \", roc_auc_score(y_test, log.predict_proba(X_test_bow)[:,1])*100)"
   ]
  },
  {
   "cell_type": "markdown",
   "metadata": {},
   "source": [
    "# Conclusion (Pretty Table) :-"
   ]
  },
  {
   "cell_type": "code",
   "execution_count": 74,
   "metadata": {
    "scrolled": false
   },
   "outputs": [
    {
     "name": "stdout",
     "output_type": "stream",
     "text": [
      "+---------------------------------+---------------------------------+---------------------------------+---------------------------------+\n",
      "|              Model              |             Log-Loss            |          ROC-AUC Score          |             Accuracy            |\n",
      "+---------------------------------+---------------------------------+---------------------------------+---------------------------------+\n",
      "|         Logistic {Test}         |              0.2566             |              96.11              |               90.2              |\n",
      "| ------------------------------- | ------------------------------- | ------------------------------- | ------------------------------- |\n",
      "|          XGBoost {Test}         |              0.323              |              94.06              |              86.46              |\n",
      "| ------------------------------- | ------------------------------- | ------------------------------- | ------------------------------- |\n",
      "|       Random Forest {Test}      |              0.435              |              94.91              |              88.07              |\n",
      "| ------------------------------- | ------------------------------- | ------------------------------- | ------------------------------- |\n",
      "|  Multinomial Naive Bayes {Test} |              1.3265             |              94.26              |              88.31              |\n",
      "| ------------------------------- | ------------------------------- | ------------------------------- | ------------------------------- |\n",
      "|          Logistic {CV}          |              0.2619             |              96.04              |              90.04              |\n",
      "| ------------------------------- | ------------------------------- | ------------------------------- | ------------------------------- |\n",
      "|           XGBoost {CV}          |              0.3302             |              93.73              |              85.94              |\n",
      "| ------------------------------- | ------------------------------- | ------------------------------- | ------------------------------- |\n",
      "|        Random Forest {CV}       |              0.4375             |              94.75              |              87.96              |\n",
      "| ------------------------------- | ------------------------------- | ------------------------------- | ------------------------------- |\n",
      "|   Multinomial Naive Bayes {CV}  |              1.2876             |              94.49              |              88.15              |\n",
      "+---------------------------------+---------------------------------+---------------------------------+---------------------------------+\n"
     ]
    }
   ],
   "source": [
    "pt = PrettyTable()\n",
    "pt.field_names = [\"Model\", \"Log-Loss\", \"ROC-AUC Score\",\"Accuracy\"]\n",
    "pt.add_row([\"Logistic {Test}\", round(log_loss(y_test, log.predict_proba(X_test_bow)[:,1]), 4), round(roc_auc_score(y_test, log.predict_proba(X_test_bow)[:,1])*100, 2), round(accuracy_score(y_test, log.predict(X_test_bow))*100, 2)])\n",
    "pt.add_row([\"-------------------------------\", \"-------------------------------\", \"-------------------------------\", \"-------------------------------\"])\n",
    "pt.add_row([\"XGBoost {Test}\", round(log_loss(y_test, xgb.predict_proba(X_test_bow)[:,1]), 4), round(roc_auc_score(y_test, xgb.predict_proba(X_test_bow)[:,1])*100, 2), round(accuracy_score(y_test, xgb.predict(X_test_bow))*100, 2)])\n",
    "pt.add_row([\"-------------------------------\", \"-------------------------------\", \"-------------------------------\", \"-------------------------------\"])\n",
    "pt.add_row([\"Random Forest {Test}\", round(log_loss(y_test, rf.predict_proba(X_test_bow)[:,1]), 4), round(roc_auc_score(y_test, rf.predict_proba(X_test_bow)[:,1])*100, 2), round(accuracy_score(y_test, rf.predict(X_test_bow))*100, 2)])\n",
    "pt.add_row([\"-------------------------------\", \"-------------------------------\", \"-------------------------------\", \"-------------------------------\"])\n",
    "pt.add_row([\"Multinomial Naive Bayes {Test}\", round(log_loss(y_test, mnb.predict_proba(X_test_bow)[:,1]), 4), round(roc_auc_score(y_test, mnb.predict_proba(X_test_bow)[:,1])*100, 2), round(accuracy_score(y_test, mnb.predict(X_test_bow))*100, 2)])\n",
    "pt.add_row([\"-------------------------------\", \"-------------------------------\", \"-------------------------------\", \"-------------------------------\"])\n",
    "pt.add_row([\"Logistic {CV}\", round(log_loss(y_cv, log.predict_proba(X_cv_bow)[:,1]), 4), round(roc_auc_score(y_cv, log.predict_proba(X_cv_bow)[:,1])*100, 2), round(accuracy_score(y_cv, log.predict(X_cv_bow))*100, 2)])\n",
    "pt.add_row([\"-------------------------------\", \"-------------------------------\", \"-------------------------------\", \"-------------------------------\"])\n",
    "pt.add_row([\"XGBoost {CV}\", round(log_loss(y_cv, xgb.predict_proba(X_cv_bow)[:,1]), 4), round(roc_auc_score(y_cv, xgb.predict_proba(X_cv_bow)[:,1])*100, 2), round(accuracy_score(y_cv, xgb.predict(X_cv_bow))*100, 2)])\n",
    "pt.add_row([\"-------------------------------\", \"-------------------------------\", \"-------------------------------\", \"-------------------------------\"])\n",
    "pt.add_row([\"Random Forest {CV}\", round(log_loss(y_cv, rf.predict_proba(X_cv_bow)[:,1]), 4), round(roc_auc_score(y_cv, rf.predict_proba(X_cv_bow)[:,1])*100, 2), round(accuracy_score(y_cv, rf.predict(X_cv_bow))*100, 2)])\n",
    "pt.add_row([\"-------------------------------\", \"-------------------------------\", \"-------------------------------\", \"-------------------------------\"])\n",
    "pt.add_row([\"Multinomial Naive Bayes {CV}\", round(log_loss(y_cv, mnb.predict_proba(X_cv_bow)[:,1]), 4), round(roc_auc_score(y_cv, mnb.predict_proba(X_cv_bow)[:,1])*100, 2), round(accuracy_score(y_cv, mnb.predict(X_cv_bow))*100, 2)])\n",
    "print(pt)"
   ]
  },
  {
   "cell_type": "markdown",
   "metadata": {},
   "source": [
    "***Clearly, we can see from above table that Logistic Regression did amazing job and came 1st among all.***"
   ]
  }
 ],
 "metadata": {
  "kernelspec": {
   "display_name": "Python 3",
   "language": "python",
   "name": "python3"
  },
  "language_info": {
   "codemirror_mode": {
    "name": "ipython",
    "version": 3
   },
   "file_extension": ".py",
   "mimetype": "text/x-python",
   "name": "python",
   "nbconvert_exporter": "python",
   "pygments_lexer": "ipython3",
   "version": "3.7.6"
  }
 },
 "nbformat": 4,
 "nbformat_minor": 4
}
